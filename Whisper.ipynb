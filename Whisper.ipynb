{
  "nbformat": 4,
  "nbformat_minor": 0,
  "metadata": {
    "colab": {
      "provenance": []
    },
    "kernelspec": {
      "display_name": "Python 3",
      "name": "python3"
    }
  },
  "cells": [
    {
      "cell_type": "markdown",
      "source": [
        "**Note: Change Hardware Accelerator to GPU to train faster (Runtime -> Change Runtime Type -> Hardware Accelerator -> GPU)**"
      ],
      "metadata": {
        "id": "0JUS3YzaDAuB"
      }
    },
    {
      "cell_type": "markdown",
      "metadata": {
        "id": "qg6EWaEmhAVE"
      },
      "source": [
        "# Whisper - Machine Learning App for Disaster Relief\n",
        "\n",
        "![](https://raw.githubusercontent.com/NolanChai/model_repo/main/Disaster_relief_image.png)"
      ]
    },
    {
      "cell_type": "code",
      "metadata": {
        "id": "NL7dsgzbihZP",
        "colab": {
          "base_uri": "https://localhost:8080/"
        },
        "outputId": "653699b4-d29e-494e-82cd-afe006ddd92b"
      },
      "source": [
        "#@title Run this to setup the environment and load the data\n",
        "#!pip install -q seaborn pandas scikit-learn matplotlib requests\n",
        "#!pip install torch==1.10.0 torchtext==0.11.0\n",
        "import re\n",
        "import seaborn as sns\n",
        "import pandas as pd\n",
        "import numpy as np\n",
        "#from torchtext.vocab import GloVe\n",
        "from sklearn.model_selection import train_test_split\n",
        "\n",
        "!wget -q --show-progress 'https://storage.googleapis.com/inspirit-ai-data-bucket-1/Data/AI%20Scholars/Sessions%206%20-%2010%20(Projects)/Project%20-%20Disaster%20Relief/disaster_data.csv'\n",
        "dataset_path = './disaster_data.csv'\n",
        "\n",
        "#Temp getting glove vectors from another resource - Stanford server shutdown till July 4 2023\n",
        "!wget http://nlp.uoregon.edu/download/embeddings/glove.6B.300d.txt\n",
        "\n",
        "from sklearn import metrics\n",
        "from sklearn.linear_model import LogisticRegression\n",
        "from sklearn.metrics import classification_report\n",
        "\n",
        "from sklearn.metrics import precision_recall_fscore_support\n",
        "from sklearn.metrics import accuracy_score\n",
        "from sklearn.metrics import confusion_matrix\n",
        "import matplotlib\n",
        "import matplotlib.pyplot as plt\n",
        "import requests, io, zipfile"
      ],
      "execution_count": null,
      "outputs": [
        {
          "output_type": "stream",
          "name": "stdout",
          "text": [
            "\rdisaster_data.csv.1   0%[                    ]       0  --.-KB/s               \rdisaster_data.csv.1 100%[===================>] 222.42K  --.-KB/s    in 0.007s  \n",
            "--2025-02-12 14:43:07--  http://nlp.uoregon.edu/download/embeddings/glove.6B.300d.txt\n",
            "Resolving nlp.uoregon.edu (nlp.uoregon.edu)... 128.223.8.161, 2607:8400:205e:8:ae1f:6bff:fe93:6364\n",
            "Connecting to nlp.uoregon.edu (nlp.uoregon.edu)|128.223.8.161|:80... connected.\n",
            "HTTP request sent, awaiting response... 200 OK\n",
            "Length: 1037962819 (990M) [text/plain]\n",
            "Saving to: ‘glove.6B.300d.txt.1’\n",
            "\n",
            "glove.6B.300d.txt.1 100%[===================>] 989.88M  19.4MB/s    in 34s     \n",
            "\n",
            "2025-02-12 14:43:41 (28.9 MB/s) - ‘glove.6B.300d.txt.1’ saved [1037962819/1037962819]\n",
            "\n"
          ]
        }
      ]
    },
    {
      "cell_type": "markdown",
      "metadata": {
        "id": "azJvdunDdKA-"
      },
      "source": [
        "# Part 1: Disaster Tweet Classification"
      ]
    },
    {
      "cell_type": "markdown",
      "metadata": {
        "id": "OgslBWwuZMKK"
      },
      "source": [
        "Let's construct a machine learning model to classify disaster types from tweets!\n",
        "\n",
        "\n",
        "\n",
        "\n",
        "\n",
        "##Load the data"
      ]
    },
    {
      "cell_type": "code",
      "source": [
        "disaster_tweets = pd.read_csv('disaster_data.csv', encoding=\"ISO-8859-1\", na_filter=False)\n",
        "disaster_tweets.head()"
      ],
      "metadata": {
        "id": "plHDy57IJ-E6",
        "colab": {
          "base_uri": "https://localhost:8080/"
        },
        "outputId": "765d7228-aa80-4ecb-ab1f-7a1bbe9a7860"
      },
      "execution_count": null,
      "outputs": [
        {
          "output_type": "execute_result",
          "data": {
            "text/plain": [
              "                                 tweet_id  \\\n",
              "0  ca9e24c8-396d-4502-8b45-18895df5333e_0   \n",
              "1            twitter_resource_tweets_1692   \n",
              "2    625b46e2-0b81-41ea-826e-4535fe9b39b8   \n",
              "3            twitter_resource_tweets_1699   \n",
              "4    c3bfea72-d377-445c-b4b8-e8ebca0e7fbb   \n",
              "\n",
              "                                                text category need_or_resource  \n",
              "0  Donations of batteries, flashlights, and clean...   Energy             need  \n",
              "1  I want hurricane Sandy to cone so I can be stu...     None             None  \n",
              "2  Hi, I can help prepare food, serve food, offer...     Food         resource  \n",
              "3                          I cant believe Sandy.....     None             None  \n",
              "4  I have children and adult clothes including ja...    Water         resource  "
            ],
            "text/html": [
              "\n",
              "  <div id=\"df-d7e64559-38ed-4bde-a003-e341b7ddc91e\" class=\"colab-df-container\">\n",
              "    <div>\n",
              "<style scoped>\n",
              "    .dataframe tbody tr th:only-of-type {\n",
              "        vertical-align: middle;\n",
              "    }\n",
              "\n",
              "    .dataframe tbody tr th {\n",
              "        vertical-align: top;\n",
              "    }\n",
              "\n",
              "    .dataframe thead th {\n",
              "        text-align: right;\n",
              "    }\n",
              "</style>\n",
              "<table border=\"1\" class=\"dataframe\">\n",
              "  <thead>\n",
              "    <tr style=\"text-align: right;\">\n",
              "      <th></th>\n",
              "      <th>tweet_id</th>\n",
              "      <th>text</th>\n",
              "      <th>category</th>\n",
              "      <th>need_or_resource</th>\n",
              "    </tr>\n",
              "  </thead>\n",
              "  <tbody>\n",
              "    <tr>\n",
              "      <th>0</th>\n",
              "      <td>ca9e24c8-396d-4502-8b45-18895df5333e_0</td>\n",
              "      <td>Donations of batteries, flashlights, and clean...</td>\n",
              "      <td>Energy</td>\n",
              "      <td>need</td>\n",
              "    </tr>\n",
              "    <tr>\n",
              "      <th>1</th>\n",
              "      <td>twitter_resource_tweets_1692</td>\n",
              "      <td>I want hurricane Sandy to cone so I can be stu...</td>\n",
              "      <td>None</td>\n",
              "      <td>None</td>\n",
              "    </tr>\n",
              "    <tr>\n",
              "      <th>2</th>\n",
              "      <td>625b46e2-0b81-41ea-826e-4535fe9b39b8</td>\n",
              "      <td>Hi, I can help prepare food, serve food, offer...</td>\n",
              "      <td>Food</td>\n",
              "      <td>resource</td>\n",
              "    </tr>\n",
              "    <tr>\n",
              "      <th>3</th>\n",
              "      <td>twitter_resource_tweets_1699</td>\n",
              "      <td>I cant believe Sandy.....</td>\n",
              "      <td>None</td>\n",
              "      <td>None</td>\n",
              "    </tr>\n",
              "    <tr>\n",
              "      <th>4</th>\n",
              "      <td>c3bfea72-d377-445c-b4b8-e8ebca0e7fbb</td>\n",
              "      <td>I have children and adult clothes including ja...</td>\n",
              "      <td>Water</td>\n",
              "      <td>resource</td>\n",
              "    </tr>\n",
              "  </tbody>\n",
              "</table>\n",
              "</div>\n",
              "    <div class=\"colab-df-buttons\">\n",
              "\n",
              "  <div class=\"colab-df-container\">\n",
              "    <button class=\"colab-df-convert\" onclick=\"convertToInteractive('df-d7e64559-38ed-4bde-a003-e341b7ddc91e')\"\n",
              "            title=\"Convert this dataframe to an interactive table.\"\n",
              "            style=\"display:none;\">\n",
              "\n",
              "  <svg xmlns=\"http://www.w3.org/2000/svg\" height=\"24px\" viewBox=\"0 -960 960 960\">\n",
              "    <path d=\"M120-120v-720h720v720H120Zm60-500h600v-160H180v160Zm220 220h160v-160H400v160Zm0 220h160v-160H400v160ZM180-400h160v-160H180v160Zm440 0h160v-160H620v160ZM180-180h160v-160H180v160Zm440 0h160v-160H620v160Z\"/>\n",
              "  </svg>\n",
              "    </button>\n",
              "\n",
              "  <style>\n",
              "    .colab-df-container {\n",
              "      display:flex;\n",
              "      gap: 12px;\n",
              "    }\n",
              "\n",
              "    .colab-df-convert {\n",
              "      background-color: #E8F0FE;\n",
              "      border: none;\n",
              "      border-radius: 50%;\n",
              "      cursor: pointer;\n",
              "      display: none;\n",
              "      fill: #1967D2;\n",
              "      height: 32px;\n",
              "      padding: 0 0 0 0;\n",
              "      width: 32px;\n",
              "    }\n",
              "\n",
              "    .colab-df-convert:hover {\n",
              "      background-color: #E2EBFA;\n",
              "      box-shadow: 0px 1px 2px rgba(60, 64, 67, 0.3), 0px 1px 3px 1px rgba(60, 64, 67, 0.15);\n",
              "      fill: #174EA6;\n",
              "    }\n",
              "\n",
              "    .colab-df-buttons div {\n",
              "      margin-bottom: 4px;\n",
              "    }\n",
              "\n",
              "    [theme=dark] .colab-df-convert {\n",
              "      background-color: #3B4455;\n",
              "      fill: #D2E3FC;\n",
              "    }\n",
              "\n",
              "    [theme=dark] .colab-df-convert:hover {\n",
              "      background-color: #434B5C;\n",
              "      box-shadow: 0px 1px 3px 1px rgba(0, 0, 0, 0.15);\n",
              "      filter: drop-shadow(0px 1px 2px rgba(0, 0, 0, 0.3));\n",
              "      fill: #FFFFFF;\n",
              "    }\n",
              "  </style>\n",
              "\n",
              "    <script>\n",
              "      const buttonEl =\n",
              "        document.querySelector('#df-d7e64559-38ed-4bde-a003-e341b7ddc91e button.colab-df-convert');\n",
              "      buttonEl.style.display =\n",
              "        google.colab.kernel.accessAllowed ? 'block' : 'none';\n",
              "\n",
              "      async function convertToInteractive(key) {\n",
              "        const element = document.querySelector('#df-d7e64559-38ed-4bde-a003-e341b7ddc91e');\n",
              "        const dataTable =\n",
              "          await google.colab.kernel.invokeFunction('convertToInteractive',\n",
              "                                                    [key], {});\n",
              "        if (!dataTable) return;\n",
              "\n",
              "        const docLinkHtml = 'Like what you see? Visit the ' +\n",
              "          '<a target=\"_blank\" href=https://colab.research.google.com/notebooks/data_table.ipynb>data table notebook</a>'\n",
              "          + ' to learn more about interactive tables.';\n",
              "        element.innerHTML = '';\n",
              "        dataTable['output_type'] = 'display_data';\n",
              "        await google.colab.output.renderOutput(dataTable, element);\n",
              "        const docLink = document.createElement('div');\n",
              "        docLink.innerHTML = docLinkHtml;\n",
              "        element.appendChild(docLink);\n",
              "      }\n",
              "    </script>\n",
              "  </div>\n",
              "\n",
              "\n",
              "<div id=\"df-131aeaa9-f379-47fe-83c2-2c3dcb07b265\">\n",
              "  <button class=\"colab-df-quickchart\" onclick=\"quickchart('df-131aeaa9-f379-47fe-83c2-2c3dcb07b265')\"\n",
              "            title=\"Suggest charts\"\n",
              "            style=\"display:none;\">\n",
              "\n",
              "<svg xmlns=\"http://www.w3.org/2000/svg\" height=\"24px\"viewBox=\"0 0 24 24\"\n",
              "     width=\"24px\">\n",
              "    <g>\n",
              "        <path d=\"M19 3H5c-1.1 0-2 .9-2 2v14c0 1.1.9 2 2 2h14c1.1 0 2-.9 2-2V5c0-1.1-.9-2-2-2zM9 17H7v-7h2v7zm4 0h-2V7h2v10zm4 0h-2v-4h2v4z\"/>\n",
              "    </g>\n",
              "</svg>\n",
              "  </button>\n",
              "\n",
              "<style>\n",
              "  .colab-df-quickchart {\n",
              "      --bg-color: #E8F0FE;\n",
              "      --fill-color: #1967D2;\n",
              "      --hover-bg-color: #E2EBFA;\n",
              "      --hover-fill-color: #174EA6;\n",
              "      --disabled-fill-color: #AAA;\n",
              "      --disabled-bg-color: #DDD;\n",
              "  }\n",
              "\n",
              "  [theme=dark] .colab-df-quickchart {\n",
              "      --bg-color: #3B4455;\n",
              "      --fill-color: #D2E3FC;\n",
              "      --hover-bg-color: #434B5C;\n",
              "      --hover-fill-color: #FFFFFF;\n",
              "      --disabled-bg-color: #3B4455;\n",
              "      --disabled-fill-color: #666;\n",
              "  }\n",
              "\n",
              "  .colab-df-quickchart {\n",
              "    background-color: var(--bg-color);\n",
              "    border: none;\n",
              "    border-radius: 50%;\n",
              "    cursor: pointer;\n",
              "    display: none;\n",
              "    fill: var(--fill-color);\n",
              "    height: 32px;\n",
              "    padding: 0;\n",
              "    width: 32px;\n",
              "  }\n",
              "\n",
              "  .colab-df-quickchart:hover {\n",
              "    background-color: var(--hover-bg-color);\n",
              "    box-shadow: 0 1px 2px rgba(60, 64, 67, 0.3), 0 1px 3px 1px rgba(60, 64, 67, 0.15);\n",
              "    fill: var(--button-hover-fill-color);\n",
              "  }\n",
              "\n",
              "  .colab-df-quickchart-complete:disabled,\n",
              "  .colab-df-quickchart-complete:disabled:hover {\n",
              "    background-color: var(--disabled-bg-color);\n",
              "    fill: var(--disabled-fill-color);\n",
              "    box-shadow: none;\n",
              "  }\n",
              "\n",
              "  .colab-df-spinner {\n",
              "    border: 2px solid var(--fill-color);\n",
              "    border-color: transparent;\n",
              "    border-bottom-color: var(--fill-color);\n",
              "    animation:\n",
              "      spin 1s steps(1) infinite;\n",
              "  }\n",
              "\n",
              "  @keyframes spin {\n",
              "    0% {\n",
              "      border-color: transparent;\n",
              "      border-bottom-color: var(--fill-color);\n",
              "      border-left-color: var(--fill-color);\n",
              "    }\n",
              "    20% {\n",
              "      border-color: transparent;\n",
              "      border-left-color: var(--fill-color);\n",
              "      border-top-color: var(--fill-color);\n",
              "    }\n",
              "    30% {\n",
              "      border-color: transparent;\n",
              "      border-left-color: var(--fill-color);\n",
              "      border-top-color: var(--fill-color);\n",
              "      border-right-color: var(--fill-color);\n",
              "    }\n",
              "    40% {\n",
              "      border-color: transparent;\n",
              "      border-right-color: var(--fill-color);\n",
              "      border-top-color: var(--fill-color);\n",
              "    }\n",
              "    60% {\n",
              "      border-color: transparent;\n",
              "      border-right-color: var(--fill-color);\n",
              "    }\n",
              "    80% {\n",
              "      border-color: transparent;\n",
              "      border-right-color: var(--fill-color);\n",
              "      border-bottom-color: var(--fill-color);\n",
              "    }\n",
              "    90% {\n",
              "      border-color: transparent;\n",
              "      border-bottom-color: var(--fill-color);\n",
              "    }\n",
              "  }\n",
              "</style>\n",
              "\n",
              "  <script>\n",
              "    async function quickchart(key) {\n",
              "      const quickchartButtonEl =\n",
              "        document.querySelector('#' + key + ' button');\n",
              "      quickchartButtonEl.disabled = true;  // To prevent multiple clicks.\n",
              "      quickchartButtonEl.classList.add('colab-df-spinner');\n",
              "      try {\n",
              "        const charts = await google.colab.kernel.invokeFunction(\n",
              "            'suggestCharts', [key], {});\n",
              "      } catch (error) {\n",
              "        console.error('Error during call to suggestCharts:', error);\n",
              "      }\n",
              "      quickchartButtonEl.classList.remove('colab-df-spinner');\n",
              "      quickchartButtonEl.classList.add('colab-df-quickchart-complete');\n",
              "    }\n",
              "    (() => {\n",
              "      let quickchartButtonEl =\n",
              "        document.querySelector('#df-131aeaa9-f379-47fe-83c2-2c3dcb07b265 button');\n",
              "      quickchartButtonEl.style.display =\n",
              "        google.colab.kernel.accessAllowed ? 'block' : 'none';\n",
              "    })();\n",
              "  </script>\n",
              "</div>\n",
              "\n",
              "    </div>\n",
              "  </div>\n"
            ],
            "application/vnd.google.colaboratory.intrinsic+json": {
              "type": "dataframe",
              "variable_name": "disaster_tweets",
              "summary": "{\n  \"name\": \"disaster_tweets\",\n  \"rows\": 1358,\n  \"fields\": [\n    {\n      \"column\": \"tweet_id\",\n      \"properties\": {\n        \"dtype\": \"string\",\n        \"num_unique_values\": 1358,\n        \"samples\": [\n          \"2c76c16c-d0ca-4b6e-8f77-4062982f673a\",\n          \"twitter_random_tweets_5120\",\n          \"0d0764be-7407-4723-a155-e6de18bc9761\"\n        ],\n        \"semantic_type\": \"\",\n        \"description\": \"\"\n      }\n    },\n    {\n      \"column\": \"text\",\n      \"properties\": {\n        \"dtype\": \"string\",\n        \"num_unique_values\": 1358,\n        \"samples\": [\n          \"baby supplies hygiene products non perishable foods\",\n          \"Local fame has been achieved.... HAHAHA the local representative of hurricane sandy right here...\",\n          \"I heard that you are accepting prepared food. I am happy to cook and bring food.\"\n        ],\n        \"semantic_type\": \"\",\n        \"description\": \"\"\n      }\n    },\n    {\n      \"column\": \"category\",\n      \"properties\": {\n        \"dtype\": \"category\",\n        \"num_unique_values\": 5,\n        \"samples\": [\n          \"None\",\n          \"Medical\",\n          \"Food\"\n        ],\n        \"semantic_type\": \"\",\n        \"description\": \"\"\n      }\n    },\n    {\n      \"column\": \"need_or_resource\",\n      \"properties\": {\n        \"dtype\": \"category\",\n        \"num_unique_values\": 3,\n        \"samples\": [\n          \"need\",\n          \"None\",\n          \"resource\"\n        ],\n        \"semantic_type\": \"\",\n        \"description\": \"\"\n      }\n    }\n  ]\n}"
            }
          },
          "metadata": {},
          "execution_count": 6
        }
      ]
    },
    {
      "cell_type": "markdown",
      "metadata": {
        "id": "o3VaSbQScBrj"
      },
      "source": [
        "###Extract the tweets and the respective labels\n"
      ]
    },
    {
      "cell_type": "code",
      "source": [
        "#Read the tweet data and convert it to lowercase\n",
        "tweets = disaster_tweets['text'].str.lower()\n",
        "tweets = tweets.apply(lambda x: re.sub(r'[^a-zA-Z0-9]+', ' ',x))\n",
        "#Extract the labels from the csv\n",
        "tweet_labels = disaster_tweets['category']"
      ],
      "metadata": {
        "id": "CYQKu_qncQ5A"
      },
      "execution_count": null,
      "outputs": []
    },
    {
      "cell_type": "markdown",
      "source": [
        "##Processing Our Data"
      ],
      "metadata": {
        "id": "6ry-in00xvlS"
      }
    },
    {
      "cell_type": "markdown",
      "source": [
        "###Train-Test Split\n",
        "\n",
        "\n",
        "Now that our data is ready, we can perform our usual `train_test_split`. Pass in our data and our output, `y`. You can use a test size of 0.2."
      ],
      "metadata": {
        "id": "H7olF0_MQsau"
      }
    },
    {
      "cell_type": "code",
      "execution_count": null,
      "metadata": {
        "id": "b-Dcj4bZ3-6p"
      },
      "outputs": [],
      "source": [
        "#Split the Data into Training and Testing\n",
        "X_train, X_test, y_train, y_test = train_test_split(tweets, tweet_labels, test_size=0.2, random_state=1,stratify = tweet_labels)"
      ]
    },
    {
      "cell_type": "markdown",
      "source": [
        "###Load Glove Embeddings"
      ],
      "metadata": {
        "id": "aLb4mUihdTUn"
      }
    },
    {
      "cell_type": "code",
      "source": [
        "import numpy as np\n",
        "\n",
        "# Load GloVe embeddings\n",
        "def load_glove_embeddings(file_path, vec_size=300):\n",
        "    embeddings = {}\n",
        "    with open(file_path, 'r', encoding='utf-8') as f:\n",
        "        for line in f:\n",
        "            values = line.strip().split()\n",
        "            word = values[0]\n",
        "            vector = np.asarray(values[1:], dtype='float32')\n",
        "\n",
        "            # Ensure all vectors have the correct size\n",
        "            if len(vector) == vec_size:\n",
        "                embeddings[word] = vector\n",
        "    return embeddings\n",
        "\n",
        "# Load the GloVe embeddings with 300 dimensions\n",
        "glove = load_glove_embeddings(\"glove.6B.300d.txt\")  # Ensure you have the correct path\n",
        "\n",
        "# Returns word vector for word if it exists, else return a zero vector of size 300\n",
        "def get_word_vector(word, vec_size=300):\n",
        "    # Convert the word to lowercase and check if it's in the embeddings dictionary\n",
        "    word = word.lower()\n",
        "    return glove.get(word, np.zeros(vec_size))  # Return a zero vector if word is not found\n",
        "\n",
        "# Testing the get_word_vector function\n",
        "good_vector = get_word_vector('good')\n",
        "print('Shape of \"good\" vector:', good_vector.shape)\n",
        "print(good_vector)"
      ],
      "metadata": {
        "colab": {
          "base_uri": "https://localhost:8080/"
        },
        "id": "ZXlrcmYDdfOC",
        "outputId": "cb4ff2d6-3950-41d2-d773-39b24b77c57a"
      },
      "execution_count": null,
      "outputs": [
        {
          "output_type": "stream",
          "name": "stdout",
          "text": [
            "Shape of \"good\" vector: (300,)\n",
            "[-1.3602e-01 -1.1594e-01 -1.7078e-02 -2.9256e-01  1.6149e-02  8.6472e-02\n",
            "  1.5759e-03  3.4395e-01  2.1661e-01 -2.1366e+00  3.5278e-01 -2.3909e-01\n",
            " -2.2174e-01  3.6413e-01 -4.5021e-01  1.2104e-01 -1.5596e-01 -3.8906e-02\n",
            " -2.9419e-03  1.6009e-02 -1.1620e-01  3.8680e-01  3.5109e-01  9.7426e-02\n",
            " -1.2425e-02 -1.7864e-01 -2.3259e-01 -2.6960e-01  4.1083e-02 -7.6194e-02\n",
            " -2.3362e-01  2.0919e-01 -2.7264e-01  5.4967e-02 -1.8055e+00  5.6348e-01\n",
            " -1.2778e-01  2.3147e-01 -5.8820e-03 -2.6630e-01  4.1187e-01 -3.7162e-01\n",
            " -2.0600e-01 -1.9619e-01 -4.3945e-03  1.2513e-01  4.6638e-01  4.5159e-01\n",
            " -1.5000e-01  5.9589e-03  5.9070e-02 -4.1440e-01  6.1035e-02 -2.1117e-01\n",
            " -4.0988e-01  5.6393e-01  2.3021e-01  2.7240e-01  4.9364e-02  1.4239e-01\n",
            "  4.1841e-01 -1.3983e-01  3.4826e-01 -1.0745e-01 -2.5002e-01 -3.2554e-01\n",
            "  3.3343e-01 -3.5617e-01  2.0442e-01  1.4439e-01 -1.2686e-01 -7.7273e-02\n",
            " -1.9667e-01  1.0759e-01 -1.1860e-01 -2.5083e-01  1.4205e-02  2.7251e-01\n",
            " -2.3707e-01 -2.3545e-01 -1.5887e-01  1.3151e-01  6.9564e-01  2.2766e-01\n",
            "  1.8526e-01  1.5743e-01 -1.5018e-01 -1.8177e-01 -3.3527e-02 -3.3092e-01\n",
            " -2.5205e-01  5.0913e-01 -2.5607e-01 -5.3686e-01  1.3397e-01  6.7046e-02\n",
            " -9.4473e-02 -2.2270e-01 -3.1469e-01  8.5932e-02 -4.3032e-02 -2.5821e-01\n",
            " -9.5062e-02 -1.8497e-01  5.8890e-02  1.8972e-01 -1.7366e-01  2.5263e-01\n",
            " -5.4361e-01 -3.7248e-01 -4.6661e-02 -4.1657e-01 -1.7549e-03 -4.8404e-01\n",
            "  4.2090e-01 -1.2749e-03  9.4697e-03 -1.3380e-01  7.2351e-02 -1.2096e-01\n",
            " -7.2870e-02 -1.8333e-01  3.9652e-01  1.1329e-01 -6.3029e-02 -1.9702e-03\n",
            "  4.2848e-01  3.1790e-01 -1.5079e-01  2.0405e-01  2.1828e-01  2.6067e-02\n",
            "  4.3621e-02  3.9224e-03 -2.6629e-01 -2.8312e-01  5.0497e-02 -1.8993e-01\n",
            "  1.8996e-01  2.9517e-01 -1.1566e-01  4.0967e-01  2.2221e-01 -3.9778e-01\n",
            " -3.3177e-01 -1.3884e-01 -1.6829e-01 -2.0355e-01 -2.7687e-01 -1.1087e-01\n",
            " -6.7466e-01 -1.8108e-01  1.8512e-01 -9.4616e-02  1.7856e-01 -6.6997e-02\n",
            "  1.1379e-01 -9.3380e-02  5.6860e-01 -1.3365e-01  3.4636e-01 -4.1953e-01\n",
            "  1.7547e-01 -2.4277e-02 -1.2441e-01  9.2129e-02 -1.6702e-01 -1.4285e-01\n",
            "  3.1646e-01  3.0337e-01  1.4840e-01 -6.7837e-03 -1.0509e+00  2.2329e-01\n",
            "  7.5211e-02  4.4379e-02 -8.5929e-02 -1.1806e-01 -1.6632e-01 -7.8650e-02\n",
            "  2.6374e-01 -2.2052e-01  4.5582e-01 -1.5291e-01  6.2617e-02 -1.5588e-01\n",
            "  8.2398e-02 -6.8462e-02 -2.4569e-01  2.3439e-01 -3.8633e-01  2.4835e-01\n",
            "  2.5334e-01 -2.1189e-01  4.1494e-03 -4.3762e-01 -1.3426e-01 -2.4583e-01\n",
            "  1.4213e-01 -3.3973e-01  1.4643e+00  1.6414e-01  2.2135e-01  7.4099e-03\n",
            " -5.5141e-02 -2.7403e-02  3.2928e-02  1.4289e-01 -1.0049e-01 -2.2066e-01\n",
            " -3.0380e-01  6.0624e-02 -1.2408e-01 -5.4114e-01  2.4374e-01  8.0903e-02\n",
            " -7.8264e-02  8.0091e-02  9.8551e-03 -2.3077e-01  1.6006e-01  6.4075e-02\n",
            " -4.1613e-01  2.0494e-01 -1.8681e-01  3.5367e-02  2.1759e-01 -8.7823e-02\n",
            "  3.5452e-01  1.9578e-01 -1.5127e-01 -1.0545e-01  3.5650e-01 -3.8677e-01\n",
            " -6.3172e-02  3.1534e-01 -1.5887e-01 -3.1267e-01 -1.7893e-01  4.1952e-01\n",
            "  2.3261e-01  2.0943e-01  2.7013e-02  1.7388e-02 -5.9857e-01 -1.9622e-01\n",
            " -2.3672e-01  3.0032e-01  4.6926e-02 -8.5768e-02  3.6539e-01 -5.2476e-01\n",
            " -1.3618e-01  1.0868e-01  4.6307e-01  3.8502e-01  7.6317e-04 -3.8196e-01\n",
            "  7.9772e-02 -4.1744e-02  4.7625e-02 -4.1018e-02  1.7601e-01  2.4893e-01\n",
            " -1.0753e-01  3.1935e-01 -1.2762e-01 -3.5059e-01  3.5689e-04  9.3515e-03\n",
            " -8.8616e-02 -3.2785e-01  9.2063e-02 -6.1405e-02  2.9053e-01  2.2404e-02\n",
            " -1.6879e+00  2.6712e-01  3.3419e-01 -5.2533e-02 -1.9741e-01  1.3709e-01\n",
            " -5.4288e-02  5.6423e-01  1.9384e-01  1.7229e-01  2.9025e-01 -1.6124e-01\n",
            "  5.9489e-02 -3.1884e-01 -2.8343e-01  6.4321e-02 -4.1589e-01 -7.0528e-02\n",
            "  1.2410e-02 -4.0208e-01 -2.4963e-01 -3.3760e-01  7.0098e-02  2.4642e-01]\n"
          ]
        }
      ]
    },
    {
      "cell_type": "markdown",
      "source": [
        "###Convert list of descriptions into an array of GloVe vectors"
      ],
      "metadata": {
        "id": "E0Wsk3b9eqcD"
      }
    },
    {
      "cell_type": "code",
      "source": [
        "def glove_transform_data_descriptions(data):\n",
        "    X = np.zeros((len(data), VEC_SIZE))\n",
        "\n",
        "\n",
        "    for i, tweet in enumerate(data):\n",
        "        found_words = 0.0\n",
        "        tweet = tweet.strip()\n",
        "        for word in tweet.split():\n",
        "\n",
        "            vec = get_word_vector(word)\n",
        "            if vec is not None:\n",
        "                ### YOUR CODE HERE ###\n",
        "                # Increment found_words and add vec to X[i].\n",
        "                found_words += 1\n",
        "                X[i] += vec\n",
        "                ### END CODE HERE ###\n",
        "        # We divide the sum by the number of words added, so we have the\n",
        "        # average word vector.\n",
        "        if found_words > 0:\n",
        "            X[i] /= found_words\n",
        "\n",
        "    return X\n",
        "\n",
        "glove_train_X = glove_transform_data_descriptions(X_train)\n",
        "glove_train_y = [label for label in y_train]\n",
        "print (\"Train_shape\",glove_train_X.shape)\n",
        "glove_test_X = glove_transform_data_descriptions(X_test)\n",
        "glove_test_y = [label for label in y_test]\n",
        "print (\"Test shape\",glove_test_X.shape)"
      ],
      "metadata": {
        "colab": {
          "base_uri": "https://localhost:8080/"
        },
        "id": "tzyPJAaXe22c",
        "outputId": "36f86858-8b7a-49dc-a874-754b1c40ed3c"
      },
      "execution_count": null,
      "outputs": [
        {
          "output_type": "stream",
          "name": "stdout",
          "text": [
            "Train_shape (1086, 300)\n",
            "Test shape (272, 300)\n"
          ]
        }
      ]
    },
    {
      "cell_type": "markdown",
      "metadata": {
        "id": "T9_Om7RH0s9k"
      },
      "source": [
        "##Training Our Model"
      ]
    },
    {
      "cell_type": "markdown",
      "source": [
        "The model we are going to try to use is a Logistic Regression model which will be trained on the GloVe-transformed dataset.\n"
      ],
      "metadata": {
        "id": "yxhJarz8Eg3f"
      }
    },
    {
      "cell_type": "code",
      "source": [
        "model = LogisticRegression()\n",
        "model.fit(glove_train_X, glove_train_y)\n",
        "\n",
        "glove_train_y_pred = model.predict(glove_train_X)\n",
        "print('Train accuracy', accuracy_score(glove_train_y, glove_train_y_pred))\n",
        "\n",
        "glove_test_y_pred = model.predict(glove_test_X)\n",
        "print('Val accuracy', accuracy_score(glove_test_y, glove_test_y_pred))\n",
        "\n",
        "print('Confusion matrix:')\n",
        "print(confusion_matrix(glove_test_y, glove_test_y_pred))\n",
        "\n",
        "prf = precision_recall_fscore_support(glove_test_y, glove_test_y_pred)\n",
        "\n",
        "print('Precision:', prf[0][1])\n",
        "print('Recall:', prf[1][1])\n",
        "print('F-Score:', prf[2][1])"
      ],
      "metadata": {
        "id": "Ik_-195ZNxPL",
        "colab": {
          "base_uri": "https://localhost:8080/"
        },
        "outputId": "12bd0afa-3995-49ee-f816-8a769e40d8dd"
      },
      "execution_count": null,
      "outputs": [
        {
          "output_type": "stream",
          "name": "stdout",
          "text": [
            "Train accuracy 0.9033149171270718\n",
            "Val accuracy 0.875\n",
            "Confusion matrix:\n",
            "[[ 17   6   0  10   0]\n",
            " [  0 131   0   1   0]\n",
            " [  0   3   7   0   0]\n",
            " [  6   2   1  63   0]\n",
            " [  0   4   0   1  20]]\n",
            "Precision: 0.8972602739726028\n",
            "Recall: 0.9924242424242424\n",
            "F-Score: 0.9424460431654677\n"
          ]
        }
      ]
    },
    {
      "cell_type": "markdown",
      "source": [
        "###Evaluate the Model"
      ],
      "metadata": {
        "id": "RfymOQU8ikuZ"
      }
    },
    {
      "cell_type": "code",
      "source": [
        "#Prints the classification report\n",
        "print(classification_report(y_test,glove_test_y_pred, target_names=['Energy', 'Food', 'Medical', 'None', 'Water']))\n",
        "\n",
        "'''\n",
        "Plots the confusion Matrix and saves it\n",
        "'''\n",
        "def plot_confusion_matrix(y_true,y_predicted):\n",
        "  cm = metrics.confusion_matrix(y_true, y_predicted)\n",
        "  print (\"Plotting the Confusion Matrix\")\n",
        "  labels = ['Energy', 'Food', 'Medical', 'None', 'Water']\n",
        "  df_cm = pd.DataFrame(cm,index =labels,columns = labels)\n",
        "  fig = plt.figure()\n",
        "  res = sns.heatmap(df_cm, annot=True,cmap='Blues', fmt='g')\n",
        "  plt.yticks([0.5,1.5,2.5,3.5,4.5], labels,va='center')\n",
        "  plt.title('Confusion Matrix - TestData')\n",
        "  plt.ylabel('True label')\n",
        "  plt.xlabel('Predicted label')\n",
        "  plt.show()\n",
        "  plt.close()\n",
        "plot_confusion_matrix(y_test,glove_test_y_pred)"
      ],
      "metadata": {
        "colab": {
          "base_uri": "https://localhost:8080/"
        },
        "id": "O6cyvZFWiqUk",
        "outputId": "80500d6e-309b-4bd6-c0c0-01a4f1f966c1"
      },
      "execution_count": null,
      "outputs": [
        {
          "output_type": "stream",
          "name": "stdout",
          "text": [
            "              precision    recall  f1-score   support\n",
            "\n",
            "      Energy       0.74      0.52      0.61        33\n",
            "        Food       0.90      0.99      0.94       132\n",
            "     Medical       0.88      0.70      0.78        10\n",
            "        None       0.84      0.88      0.86        72\n",
            "       Water       1.00      0.80      0.89        25\n",
            "\n",
            "    accuracy                           0.88       272\n",
            "   macro avg       0.87      0.78      0.81       272\n",
            "weighted avg       0.87      0.88      0.87       272\n",
            "\n",
            "Plotting the Confusion Matrix\n"
          ]
        },
        {
          "output_type": "display_data",
          "data": {
            "text/plain": [
              "<Figure size 640x480 with 2 Axes>"
            ],
            "image/png": "[encoded data removed]"
          },
          "metadata": {}
        }
      ]
    },
    {
      "cell_type": "markdown",
      "source": [
        "###Saving our Whisper Model\n",
        "\n",
        "Now let's save and download our `whisper_model`"
      ],
      "metadata": {
        "id": "1jz4GggWe0Qe"
      }
    },
    {
      "cell_type": "code",
      "source": [
        "import joblib\n",
        "from google.colab import files\n",
        "\n",
        "joblib.dump(model, \"whisper_model.joblib\")\n",
        "files.download(\"whisper_model.joblib\")"
      ],
      "metadata": {
        "id": "N9bAkhuMezSv",
        "colab": {
          "base_uri": "https://localhost:8080/",
          "height": 17
        },
        "outputId": "16bdb2f5-4211-4e60-f399-fe6c429c2ed2"
      },
      "execution_count": null,
      "outputs": [
        {
          "output_type": "display_data",
          "data": {
            "text/plain": [
              "<IPython.core.display.Javascript object>"
            ],
            "application/javascript": [
              "\n",
              "    async function download(id, filename, size) {\n",
              "      if (!google.colab.kernel.accessAllowed) {\n",
              "        return;\n",
              "      }\n",
              "      const div = document.createElement('div');\n",
              "      const label = document.createElement('label');\n",
              "      label.textContent = `Downloading \"${filename}\": `;\n",
              "      div.appendChild(label);\n",
              "      const progress = document.createElement('progress');\n",
              "      progress.max = size;\n",
              "      div.appendChild(progress);\n",
              "      document.body.appendChild(div);\n",
              "\n",
              "      const buffers = [];\n",
              "      let downloaded = 0;\n",
              "\n",
              "      const channel = await google.colab.kernel.comms.open(id);\n",
              "      // Send a message to notify the kernel that we're ready.\n",
              "      channel.send({})\n",
              "\n",
              "      for await (const message of channel.messages) {\n",
              "        // Send a message to notify the kernel that we're ready.\n",
              "        channel.send({})\n",
              "        if (message.buffers) {\n",
              "          for (const buffer of message.buffers) {\n",
              "            buffers.push(buffer);\n",
              "            downloaded += buffer.byteLength;\n",
              "            progress.value = downloaded;\n",
              "          }\n",
              "        }\n",
              "      }\n",
              "      const blob = new Blob(buffers, {type: 'application/binary'});\n",
              "      const a = document.createElement('a');\n",
              "      a.href = window.URL.createObjectURL(blob);\n",
              "      a.download = filename;\n",
              "      div.appendChild(a);\n",
              "      a.click();\n",
              "      div.remove();\n",
              "    }\n",
              "  "
            ]
          },
          "metadata": {}
        },
        {
          "output_type": "display_data",
          "data": {
            "text/plain": [
              "<IPython.core.display.Javascript object>"
            ],
            "application/javascript": [
              "download(\"download_20365136-1ad9-413b-ac34-128c19bb21f2\", \"whisper_model.joblib\", 13023)"
            ]
          },
          "metadata": {}
        }
      ]
    },
    {
      "cell_type": "markdown",
      "source": [
        "###Visualize the Embeddings in 3D"
      ],
      "metadata": {
        "id": "mkB3IZqnjb-D"
      }
    },
    {
      "cell_type": "code",
      "source": [
        "from gensim.models.word2vec import Word2Vec\n",
        "from sklearn.manifold import TSNE\n",
        "import plotly.express as px\n",
        "\n",
        "import re\n",
        "import matplotlib.pyplot as plt\n",
        "\n",
        "def clean(text):\n",
        "    \"\"\"Remove posting header, split by sentences and words, keep only letters\"\"\"\n",
        "    lines = re.split('[?!.:]\\s', re.sub('^.*Lines: \\d+', '', re.sub('\\n', ' ', text)))\n",
        "    return [re.sub('[^a-zA-Z]', ' ', line).lower().split() for line in lines]\n",
        "\n",
        "sentences = [line for text in tweets for line in clean(text)]\n",
        "\n",
        "#min-count variable helps us eliminate the words which rarely occur!\n",
        "model = Word2Vec(sentences, workers=4, vector_size=100, min_count=30, window=10, sample=1e-3)\n",
        "\n",
        "\n",
        "def tsne_plot_3d(model):\n",
        "    \"Creates a TSNE model and plots it in 3D\"\n",
        "    labels = []\n",
        "    tokens = []\n",
        "\n",
        "    for word in model.wv.key_to_index:\n",
        "        tokens.append(model.wv.get_vector(word, norm=True))\n",
        "        labels.append(word)\n",
        "\n",
        "    tsne_model = TSNE(perplexity=40, n_components=3, init='pca', n_iter=2500, random_state=23)\n",
        "    new_values = tsne_model.fit_transform(np.array(tokens))\n",
        "\n",
        "    x = []\n",
        "    y = []\n",
        "    z = []\n",
        "    for value in new_values:\n",
        "        x.append(value[0])\n",
        "        y.append(value[1])\n",
        "        z.append(value[2])\n",
        "\n",
        "    fig = px.scatter_3d(x=x, y=y, z=z, text=labels)\n",
        "    fig.update_traces(textposition='top center')\n",
        "    fig.update_layout(title_text='GloVe Word Embeddings in 3D')\n",
        "    fig.show()\n",
        "tsne_plot_3d(model)"
      ],
      "metadata": {
        "colab": {
          "base_uri": "https://localhost:8080/",
          "height": 597
        },
        "id": "dskT1Z--jhI1",
        "outputId": "13815a5a-1f5e-436e-cbe2-f46aebe01b7f"
      },
      "execution_count": null,
      "outputs": [
        {
          "output_type": "stream",
          "name": "stderr",
          "text": [
            "/usr/local/lib/python3.11/dist-packages/sklearn/manifold/_t_sne.py:1164: FutureWarning: 'n_iter' was renamed to 'max_iter' in version 1.5 and will be removed in 1.7.\n",
            "  warnings.warn(\n"
          ]
        },
        {
          "output_type": "display_data",
          "data": {
            "text/html": [
              "<html>\n",
              "<head><meta charset=\"utf-8\" /></head>\n",
              "<body>\n",
              "    <div>            <script src=\"https://cdnjs.cloudflare.com/ajax/libs/mathjax/2.7.5/MathJax.js?config=TeX-AMS-MML_SVG\"></script><script type=\"text/javascript\">if (window.MathJax && window.MathJax.Hub && window.MathJax.Hub.Config) {window.MathJax.Hub.Config({SVG: {font: \"STIX-Web\"}});}</script>                <script type=\"text/javascript\">window.PlotlyConfig = {MathJaxConfig: 'local'};</script>\n",
              "        <script charset=\"utf-8\" src=\"https://cdn.plot.ly/plotly-2.35.2.min.js\"></script>                <div id=\"3e3ebdff-8861-4893-a85d-4121c43668f3\" class=\"plotly-graph-div\" style=\"height:525px; width:100%;\"></div>            <script type=\"text/javascript\">                                    window.PLOTLYENV=window.PLOTLYENV || {};                                    if (document.getElementById(\"3e3ebdff-8861-4893-a85d-4121c43668f3\")) {                    Plotly.newPlot(                        \"3e3ebdff-8861-4893-a85d-4121c43668f3\",                        [{\"hovertemplate\":\"x=%{x}\\u003cbr\\u003ey=%{y}\\u003cbr\\u003ez=%{z}\\u003cbr\\u003etext=%{text}\\u003cextra\\u003e\\u003c\\u002fextra\\u003e\",\"legendgroup\":\"\",\"marker\":{\"color\":\"#636efa\",\"symbol\":\"circle\"},\"mode\":\"markers+text\",\"name\":\"\",\"scene\":\"scene\",\"showlegend\":false,\"text\":[\"and\",\"to\",\"i\",\"food\",\"a\",\"the\",\"can\",\"in\",\"of\",\"we\",\"have\",\"sandy\",\"is\",\"for\",\"help\",\"supplies\",\"my\",\"you\",\"t\",\"are\",\"or\",\"clothing\",\"s\",\"with\",\"need\",\"on\",\"water\",\"non\",\"it\",\"baby\",\"if\",\"be\",\"as\",\"that\",\"me\",\"power\",\"donate\",\"etc\",\"at\",\"products\",\"bring\",\"would\",\"out\",\"please\",\"perishable\",\"items\",\"hygiene\",\"up\",\"this\",\"clothes\",\"am\",\"some\",\"hurricane\",\"know\",\"like\",\"co\",\"but\",\"no\",\"also\",\"http\",\"blankets\",\"batteries\",\"let\",\"needed\",\"storm\",\"canned\",\"all\",\"from\",\"so\",\"people\",\"do\",\"there\",\"hot\",\"not\",\"will\",\"any\",\"off\",\"just\",\"cleaning\",\"get\",\"has\",\"m\",\"what\",\"them\",\"toys\",\"meals\",\"deliver\",\"where\",\"us\",\"by\",\"goods\",\"work\",\"donations\",\"foods\",\"our\",\"new\",\"thanks\",\"who\",\"drop\",\"paper\",\"they\",\"clean\",\"still\",\"happy\",\"about\",\"other\",\"needs\",\"thank\",\"car\",\"down\",\"cook\",\"here\",\"could\",\"children\",\"want\",\"d\",\"hurricanesandy\",\"towels\",\"th\",\"coats\",\"tools\",\"time\",\"good\",\"gloves\",\"an\",\"diapers\",\"got\",\"warm\",\"was\",\"make\",\"home\",\"now\",\"candles\",\"able\",\"these\",\"kids\",\"hand\",\"winter\",\"come\",\"well\",\"distribution\"],\"x\":[-11.219563,23.664116,-42.604637,-52.022358,-25.241014,26.080755,15.943681,96.86026,8.914654,48.58828,-21.108982,91.94665,-1.3206327,-56.238743,74.22142,-154.12462,6.1887116,-23.324156,151.42317,81.91901,11.861407,-170.7225,-85.76849,90.29176,78.3299,77.44902,-111.107285,-240.97874,42.752834,-215.56996,1.9978387,43.197018,-25.929197,17.519844,166.87471,96.44503,-5.611795,75.04261,-38.76646,-170.25572,-30.903757,-31.206043,100.71442,151.10023,-208.24956,-73.15619,221.97493,-71.19413,37.84354,-127.68466,-87.40723,-51.889606,148.29433,109.56585,-33.343266,177.9936,63.101025,102.19805,-6.2647204,147.51598,-121.72939,-7.53039,127.24313,-140.53122,154.00356,-157.2681,-96.533356,136.4771,-19.88337,58.71527,-33.579052,66.971664,-187.09541,36.977066,136.35393,15.250942,60.463173,-76.96322,-100.897705,-104.90093,-14.985183,15.147786,6.827435,29.51498,-216.36542,-129.82056,72.689705,122.5437,66.802246,37.86697,-84.82005,-51.721004,2.9784787,-149.06558,-14.804535,-61.493423,91.854195,-80.64645,7.0623684,-122.95588,30.797733,-87.636536,31.18007,113.7767,7.9077973,-91.982506,72.05808,96.343834,14.910502,-16.266531,143.7293,-54.42001,185.85767,-184.26389,64.95515,28.679966,166.78918,-72.408455,-35.516846,-121.15492,-63.311943,-19.708372,103.428444,-77.06268,62.609898,-159.12418,135.44823,-70.48651,103.58963,161.51805,-100.03019,180.5561,-118.229385,-132.1774,-73.32371,-167.10257,-14.504105,-158.97902,75.64499,-7.5298543,168.26578],\"y\":[106.30437,-8.546832,-113.0443,88.38877,-79.642586,-213.21246,63.491676,-44.617558,51.848915,92.44162,28.182468,-208.88972,-147.98482,-31.013584,14.598545,60.302414,-120.27659,-25.45337,-202.69601,-42.531536,-19.912071,125.11779,51.122044,-13.271991,104.21231,-86.638214,48.597237,123.06341,-78.2876,111.18014,-63.715244,-14.150724,-19.866962,-85.83105,39.64111,-156.4059,161.54172,-132.45999,-117.24411,97.76595,179.02194,-102.26403,-105.87472,94.68211,182.04538,140.6253,41.39784,-31.880367,-176.43839,181.69536,-115.48309,66.77494,-158.89282,65.17402,30.420485,-154.0587,-61.002716,-169.97536,128.79819,-219.64091,113.0431,92.3013,25.231035,-24.641375,-83.75263,160.59218,107.213234,-86.91163,-171.07896,9.039951,-42.3061,-102.61545,-38.07284,-160.06834,26.224707,72.78935,149.5124,-68.61874,56.610954,-165.75542,-174.19688,-16.241846,-34.39315,-88.51776,62.8353,-54.23828,64.10812,-3.128239,-41.41342,-148.30377,187.7928,40.281918,144.42526,21.589827,17.562443,65.14256,81.14753,-114.123344,205.08113,136.13612,-109.46289,25.040743,-238.97044,-81.18434,-86.06055,-63.58783,34.618267,148.07503,-92.55721,61.693333,91.85617,-13.5614395,-46.586372,87.71082,86.05696,128.42493,100.335655,168.03108,-82.62298,79.91025,2.2710516,-192.37767,181.82239,129.23654,18.703356,146.19391,-76.26848,99.432396,-166.30438,3.0293896,-71.92666,-44.30402,13.643805,-122.3183,111.25085,-15.743486,106.03474,75.08956,-21.814829,6.333339,89.18171],\"z\":[41.649174,-123.29379,42.03108,-36.723724,-122.593346,21.154652,-25.11551,-52.636288,53.96146,34.11751,96.53373,-32.704884,-142.28328,-100.614235,-161.66385,-8.924095,-42.48241,-42.44662,-29.497889,-6.790269,4.570283,18.439175,172.01175,-102.35122,-73.47661,-95.04626,-112.07579,35.79321,-32.62255,-23.55161,-69.30017,-63.286423,143.08772,25.341944,50.19663,-76.676544,81.277466,-168.64622,-86.591064,-63.322033,-64.393326,103.276886,-28.817108,36.577076,8.740368,-46.004406,-21.775227,0.78974915,-81.50049,12.748375,-129.53056,69.76947,-100.82324,67.5573,5.417843,-14.676801,-144.2638,4.6078353,-13.646992,25.635813,-7.4599495,113.92947,101.623795,-65.26337,-77.54743,-37.269047,154.36649,32.844994,1.8079195,79.26417,33.96423,36.400654,3.670828,-11.428282,-25.969553,-94.902435,-6.1121383,-57.930927,22.082504,33.130646,-69.444176,-211.26569,74.96694,107.02822,9.513486,13.56424,-132.25658,39.54488,55.18861,56.047905,97.97065,-114.8613,-92.26496,50.35766,-69.8131,119.52157,5.8496833,-10.418901,6.4707003,49.75129,-102.47035,-50.544186,-53.358807,112.06632,-179.29922,159.78976,-54.216835,71.552986,184.82162,-180.25911,-139.37831,-172.57036,73.66906,74.095795,139.19835,-166.5654,-54.989754,34.06033,-14.028131,78.95571,79.18481,86.24014,-40.81932,88.340935,-3.011965,91.68311,-155.32356,27.03758,89.95734,-102.7361,77.464325,-19.155598,130.65906,-48.391724,-114.52899,109.94252,181.48628,133.0577,153.05998,189.25763,125.547325],\"type\":\"scatter3d\",\"textposition\":\"top center\"}],                        {\"template\":{\"data\":{\"histogram2dcontour\":[{\"type\":\"histogram2dcontour\",\"colorbar\":{\"outlinewidth\":0,\"ticks\":\"\"},\"colorscale\":[[0.0,\"#0d0887\"],[0.1111111111111111,\"#46039f\"],[0.2222222222222222,\"#7201a8\"],[0.3333333333333333,\"#9c179e\"],[0.4444444444444444,\"#bd3786\"],[0.5555555555555556,\"#d8576b\"],[0.6666666666666666,\"#ed7953\"],[0.7777777777777778,\"#fb9f3a\"],[0.8888888888888888,\"#fdca26\"],[1.0,\"#f0f921\"]]}],\"choropleth\":[{\"type\":\"choropleth\",\"colorbar\":{\"outlinewidth\":0,\"ticks\":\"\"}}],\"histogram2d\":[{\"type\":\"histogram2d\",\"colorbar\":{\"outlinewidth\":0,\"ticks\":\"\"},\"colorscale\":[[0.0,\"#0d0887\"],[0.1111111111111111,\"#46039f\"],[0.2222222222222222,\"#7201a8\"],[0.3333333333333333,\"#9c179e\"],[0.4444444444444444,\"#bd3786\"],[0.5555555555555556,\"#d8576b\"],[0.6666666666666666,\"#ed7953\"],[0.7777777777777778,\"#fb9f3a\"],[0.8888888888888888,\"#fdca26\"],[1.0,\"#f0f921\"]]}],\"heatmap\":[{\"type\":\"heatmap\",\"colorbar\":{\"outlinewidth\":0,\"ticks\":\"\"},\"colorscale\":[[0.0,\"#0d0887\"],[0.1111111111111111,\"#46039f\"],[0.2222222222222222,\"#7201a8\"],[0.3333333333333333,\"#9c179e\"],[0.4444444444444444,\"#bd3786\"],[0.5555555555555556,\"#d8576b\"],[0.6666666666666666,\"#ed7953\"],[0.7777777777777778,\"#fb9f3a\"],[0.8888888888888888,\"#fdca26\"],[1.0,\"#f0f921\"]]}],\"heatmapgl\":[{\"type\":\"heatmapgl\",\"colorbar\":{\"outlinewidth\":0,\"ticks\":\"\"},\"colorscale\":[[0.0,\"#0d0887\"],[0.1111111111111111,\"#46039f\"],[0.2222222222222222,\"#7201a8\"],[0.3333333333333333,\"#9c179e\"],[0.4444444444444444,\"#bd3786\"],[0.5555555555555556,\"#d8576b\"],[0.6666666666666666,\"#ed7953\"],[0.7777777777777778,\"#fb9f3a\"],[0.8888888888888888,\"#fdca26\"],[1.0,\"#f0f921\"]]}],\"contourcarpet\":[{\"type\":\"contourcarpet\",\"colorbar\":{\"outlinewidth\":0,\"ticks\":\"\"}}],\"contour\":[{\"type\":\"contour\",\"colorbar\":{\"outlinewidth\":0,\"ticks\":\"\"},\"colorscale\":[[0.0,\"#0d0887\"],[0.1111111111111111,\"#46039f\"],[0.2222222222222222,\"#7201a8\"],[0.3333333333333333,\"#9c179e\"],[0.4444444444444444,\"#bd3786\"],[0.5555555555555556,\"#d8576b\"],[0.6666666666666666,\"#ed7953\"],[0.7777777777777778,\"#fb9f3a\"],[0.8888888888888888,\"#fdca26\"],[1.0,\"#f0f921\"]]}],\"surface\":[{\"type\":\"surface\",\"colorbar\":{\"outlinewidth\":0,\"ticks\":\"\"},\"colorscale\":[[0.0,\"#0d0887\"],[0.1111111111111111,\"#46039f\"],[0.2222222222222222,\"#7201a8\"],[0.3333333333333333,\"#9c179e\"],[0.4444444444444444,\"#bd3786\"],[0.5555555555555556,\"#d8576b\"],[0.6666666666666666,\"#ed7953\"],[0.7777777777777778,\"#fb9f3a\"],[0.8888888888888888,\"#fdca26\"],[1.0,\"#f0f921\"]]}],\"mesh3d\":[{\"type\":\"mesh3d\",\"colorbar\":{\"outlinewidth\":0,\"ticks\":\"\"}}],\"scatter\":[{\"fillpattern\":{\"fillmode\":\"overlay\",\"size\":10,\"solidity\":0.2},\"type\":\"scatter\"}],\"parcoords\":[{\"type\":\"parcoords\",\"line\":{\"colorbar\":{\"outlinewidth\":0,\"ticks\":\"\"}}}],\"scatterpolargl\":[{\"type\":\"scatterpolargl\",\"marker\":{\"colorbar\":{\"outlinewidth\":0,\"ticks\":\"\"}}}],\"bar\":[{\"error_x\":{\"color\":\"#2a3f5f\"},\"error_y\":{\"color\":\"#2a3f5f\"},\"marker\":{\"line\":{\"color\":\"#E5ECF6\",\"width\":0.5},\"pattern\":{\"fillmode\":\"overlay\",\"size\":10,\"solidity\":0.2}},\"type\":\"bar\"}],\"scattergeo\":[{\"type\":\"scattergeo\",\"marker\":{\"colorbar\":{\"outlinewidth\":0,\"ticks\":\"\"}}}],\"scatterpolar\":[{\"type\":\"scatterpolar\",\"marker\":{\"colorbar\":{\"outlinewidth\":0,\"ticks\":\"\"}}}],\"histogram\":[{\"marker\":{\"pattern\":{\"fillmode\":\"overlay\",\"size\":10,\"solidity\":0.2}},\"type\":\"histogram\"}],\"scattergl\":[{\"type\":\"scattergl\",\"marker\":{\"colorbar\":{\"outlinewidth\":0,\"ticks\":\"\"}}}],\"scatter3d\":[{\"type\":\"scatter3d\",\"line\":{\"colorbar\":{\"outlinewidth\":0,\"ticks\":\"\"}},\"marker\":{\"colorbar\":{\"outlinewidth\":0,\"ticks\":\"\"}}}],\"scattermapbox\":[{\"type\":\"scattermapbox\",\"marker\":{\"colorbar\":{\"outlinewidth\":0,\"ticks\":\"\"}}}],\"scatterternary\":[{\"type\":\"scatterternary\",\"marker\":{\"colorbar\":{\"outlinewidth\":0,\"ticks\":\"\"}}}],\"scattercarpet\":[{\"type\":\"scattercarpet\",\"marker\":{\"colorbar\":{\"outlinewidth\":0,\"ticks\":\"\"}}}],\"carpet\":[{\"aaxis\":{\"endlinecolor\":\"#2a3f5f\",\"gridcolor\":\"white\",\"linecolor\":\"white\",\"minorgridcolor\":\"white\",\"startlinecolor\":\"#2a3f5f\"},\"baxis\":{\"endlinecolor\":\"#2a3f5f\",\"gridcolor\":\"white\",\"linecolor\":\"white\",\"minorgridcolor\":\"white\",\"startlinecolor\":\"#2a3f5f\"},\"type\":\"carpet\"}],\"table\":[{\"cells\":{\"fill\":{\"color\":\"#EBF0F8\"},\"line\":{\"color\":\"white\"}},\"header\":{\"fill\":{\"color\":\"#C8D4E3\"},\"line\":{\"color\":\"white\"}},\"type\":\"table\"}],\"barpolar\":[{\"marker\":{\"line\":{\"color\":\"#E5ECF6\",\"width\":0.5},\"pattern\":{\"fillmode\":\"overlay\",\"size\":10,\"solidity\":0.2}},\"type\":\"barpolar\"}],\"pie\":[{\"automargin\":true,\"type\":\"pie\"}]},\"layout\":{\"autotypenumbers\":\"strict\",\"colorway\":[\"#636efa\",\"#EF553B\",\"#00cc96\",\"#ab63fa\",\"#FFA15A\",\"#19d3f3\",\"#FF6692\",\"#B6E880\",\"#FF97FF\",\"#FECB52\"],\"font\":{\"color\":\"#2a3f5f\"},\"hovermode\":\"closest\",\"hoverlabel\":{\"align\":\"left\"},\"paper_bgcolor\":\"white\",\"plot_bgcolor\":\"#E5ECF6\",\"polar\":{\"bgcolor\":\"#E5ECF6\",\"angularaxis\":{\"gridcolor\":\"white\",\"linecolor\":\"white\",\"ticks\":\"\"},\"radialaxis\":{\"gridcolor\":\"white\",\"linecolor\":\"white\",\"ticks\":\"\"}},\"ternary\":{\"bgcolor\":\"#E5ECF6\",\"aaxis\":{\"gridcolor\":\"white\",\"linecolor\":\"white\",\"ticks\":\"\"},\"baxis\":{\"gridcolor\":\"white\",\"linecolor\":\"white\",\"ticks\":\"\"},\"caxis\":{\"gridcolor\":\"white\",\"linecolor\":\"white\",\"ticks\":\"\"}},\"coloraxis\":{\"colorbar\":{\"outlinewidth\":0,\"ticks\":\"\"}},\"colorscale\":{\"sequential\":[[0.0,\"#0d0887\"],[0.1111111111111111,\"#46039f\"],[0.2222222222222222,\"#7201a8\"],[0.3333333333333333,\"#9c179e\"],[0.4444444444444444,\"#bd3786\"],[0.5555555555555556,\"#d8576b\"],[0.6666666666666666,\"#ed7953\"],[0.7777777777777778,\"#fb9f3a\"],[0.8888888888888888,\"#fdca26\"],[1.0,\"#f0f921\"]],\"sequentialminus\":[[0.0,\"#0d0887\"],[0.1111111111111111,\"#46039f\"],[0.2222222222222222,\"#7201a8\"],[0.3333333333333333,\"#9c179e\"],[0.4444444444444444,\"#bd3786\"],[0.5555555555555556,\"#d8576b\"],[0.6666666666666666,\"#ed7953\"],[0.7777777777777778,\"#fb9f3a\"],[0.8888888888888888,\"#fdca26\"],[1.0,\"#f0f921\"]],\"diverging\":[[0,\"#8e0152\"],[0.1,\"#c51b7d\"],[0.2,\"#de77ae\"],[0.3,\"#f1b6da\"],[0.4,\"#fde0ef\"],[0.5,\"#f7f7f7\"],[0.6,\"#e6f5d0\"],[0.7,\"#b8e186\"],[0.8,\"#7fbc41\"],[0.9,\"#4d9221\"],[1,\"#276419\"]]},\"xaxis\":{\"gridcolor\":\"white\",\"linecolor\":\"white\",\"ticks\":\"\",\"title\":{\"standoff\":15},\"zerolinecolor\":\"white\",\"automargin\":true,\"zerolinewidth\":2},\"yaxis\":{\"gridcolor\":\"white\",\"linecolor\":\"white\",\"ticks\":\"\",\"title\":{\"standoff\":15},\"zerolinecolor\":\"white\",\"automargin\":true,\"zerolinewidth\":2},\"scene\":{\"xaxis\":{\"backgroundcolor\":\"#E5ECF6\",\"gridcolor\":\"white\",\"linecolor\":\"white\",\"showbackground\":true,\"ticks\":\"\",\"zerolinecolor\":\"white\",\"gridwidth\":2},\"yaxis\":{\"backgroundcolor\":\"#E5ECF6\",\"gridcolor\":\"white\",\"linecolor\":\"white\",\"showbackground\":true,\"ticks\":\"\",\"zerolinecolor\":\"white\",\"gridwidth\":2},\"zaxis\":{\"backgroundcolor\":\"#E5ECF6\",\"gridcolor\":\"white\",\"linecolor\":\"white\",\"showbackground\":true,\"ticks\":\"\",\"zerolinecolor\":\"white\",\"gridwidth\":2}},\"shapedefaults\":{\"line\":{\"color\":\"#2a3f5f\"}},\"annotationdefaults\":{\"arrowcolor\":\"#2a3f5f\",\"arrowhead\":0,\"arrowwidth\":1},\"geo\":{\"bgcolor\":\"white\",\"landcolor\":\"#E5ECF6\",\"subunitcolor\":\"white\",\"showland\":true,\"showlakes\":true,\"lakecolor\":\"white\"},\"title\":{\"x\":0.05},\"mapbox\":{\"style\":\"light\"}}},\"scene\":{\"domain\":{\"x\":[0.0,1.0],\"y\":[0.0,1.0]},\"xaxis\":{\"title\":{\"text\":\"x\"}},\"yaxis\":{\"title\":{\"text\":\"y\"}},\"zaxis\":{\"title\":{\"text\":\"z\"}}},\"legend\":{\"tracegroupgap\":0},\"margin\":{\"t\":60},\"title\":{\"text\":\"GloVe Word Embeddings in 3D\"}},                        {\"responsive\": true}                    ).then(function(){\n",
              "                            \n",
              "var gd = document.getElementById('3e3ebdff-8861-4893-a85d-4121c43668f3');\n",
              "var x = new MutationObserver(function (mutations, observer) {{\n",
              "        var display = window.getComputedStyle(gd).display;\n",
              "        if (!display || display === 'none') {{\n",
              "            console.log([gd, 'removed!']);\n",
              "            Plotly.purge(gd);\n",
              "            observer.disconnect();\n",
              "        }}\n",
              "}});\n",
              "\n",
              "// Listen for the removal of the full notebook cells\n",
              "var notebookContainer = gd.closest('#notebook-container');\n",
              "if (notebookContainer) {{\n",
              "    x.observe(notebookContainer, {childList: true});\n",
              "}}\n",
              "\n",
              "// Listen for the clearing of the current output cell\n",
              "var outputEl = gd.closest('.output');\n",
              "if (outputEl) {{\n",
              "    x.observe(outputEl, {childList: true});\n",
              "}}\n",
              "\n",
              "                        })                };                            </script>        </div>\n",
              "</body>\n",
              "</html>"
            ]
          },
          "metadata": {}
        }
      ]
    },
    {
      "cell_type": "markdown",
      "source": [
        "# Part 2: Setting Up Our Disaster Relief App\n",
        "\n",
        "---\n",
        "\n"
      ],
      "metadata": {
        "id": "8Fo6bXsjfNXd"
      }
    },
    {
      "cell_type": "markdown",
      "source": [
        "### Setting up Ngrok auth token"
      ],
      "metadata": {
        "id": "vRQ3PTs4Rilh"
      }
    },
    {
      "cell_type": "code",
      "execution_count": null,
      "metadata": {
        "id": "ZA2SMifI_fWK",
        "colab": {
          "base_uri": "https://localhost:8080/"
        },
        "outputId": "3bc23728-e06b-460f-c37a-2fdf024a42a3"
      },
      "outputs": [
        {
          "output_type": "stream",
          "name": "stdout",
          "text": [
            "Authtoken saved to configuration file: /root/.config/ngrok/ngrok.yml\n"
          ]
        }
      ],
      "source": [
        "!pip -q install pyngrok > /dev/null\n",
        "!pip -q install streamlit > /dev/null\n",
        "!pip -q install patool > /dev/null\n",
        "!pip -q install keras==3.5.0 > /dev/null\n",
        "!ngrok authtoken 2stAYuQD6aIsjzhXhLPLZR7KiMI_5j5bT8XEFmzBwWtLFV72L"
      ]
    },
    {
      "cell_type": "markdown",
      "metadata": {
        "id": "1jIe4K0gB0q0"
      },
      "source": [
        "### Connecting Our App and Model\n"
      ]
    },
    {
      "cell_type": "markdown",
      "metadata": {
        "id": "2M9klrD3t5cr"
      },
      "source": [
        "Let's connect our app to our model, so that the user can upload an image of a blood slide, the model will analyze the image, and finally the app will display the diagnosis result with some text.\n",
        "\n",
        "We'll start off by writing our image processing code here in Colab. Although we won't execute it here, it'll be easier to visualize the steps."
      ]
    },
    {
      "cell_type": "code",
      "source": [
        "import cv2\n",
        "import gdown\n",
        "import glob\n",
        "import matplotlib\n",
        "import matplotlib.pyplot as plt\n",
        "import numpy as np\n",
        "import os\n",
        "import patoolib\n",
        "import streamlit as st\n",
        "\n",
        "from joblib import dump\n",
        "from tqdm import tqdm\n",
        "from pyngrok import ngrok\n",
        "# Helpful function for launching our Streamlit app\n",
        "def launch_website():\n",
        "  print (\"Click this link to try your web app:\")\n",
        "  if (ngrok.get_tunnels() != None):\n",
        "    ngrok.kill()\n",
        "  tunnel = ngrok.connect()\n",
        "  print(tunnel.public_url)\n",
        "  !streamlit run --server.port 80 app.py > /dev/null\n",
        "launch_website()"
      ],
      "metadata": {
        "colab": {
          "base_uri": "https://localhost:8080/"
        },
        "id": "5i8y2zziNBwR",
        "outputId": "ee5ae73f-f933-47da-d25a-4c6781d9e6dc"
      },
      "execution_count": null,
      "outputs": [
        {
          "output_type": "stream",
          "name": "stdout",
          "text": [
            "Click this link to try your web app:\n",
            "https://f02b-34-69-104-17.ngrok-free.app\n"
          ]
        }
      ]
    },
    {
      "cell_type": "markdown",
      "source": [
        "###Designing the interface"
      ],
      "metadata": {
        "id": "X54PjfDmyxQb"
      }
    },
    {
      "cell_type": "code",
      "source": [
        "%%writefile app.py\n",
        "import streamlit as st\n",
        "import joblib\n",
        "import numpy as np\n",
        "\n",
        "VEC_SIZE = 300\n",
        "\n",
        "# Load GloVe embeddings from a local file\n",
        "def load_glove_embeddings(file_path, vec_size=300):\n",
        "    embeddings = {}\n",
        "    with open(file_path, 'r', encoding='utf-8') as f:\n",
        "        for line in f:\n",
        "            values = line.strip().split()\n",
        "            word = values[0]\n",
        "            vector = np.asarray(values[1:], dtype='float32')\n",
        "\n",
        "            # Ensure all vectors have the correct size\n",
        "            if len(vector) == vec_size:\n",
        "                embeddings[word] = vector\n",
        "    return embeddings\n",
        "\n",
        "# Load the GloVe embeddings (ensure you have the correct path)\n",
        "glove = load_glove_embeddings(\"glove.6B.300d.txt\")\n",
        "\n",
        "# Load the model\n",
        "model = joblib.load('whisper_model.joblib')\n",
        "\n",
        "st.set_page_config(page_title=\"Whisper: Disaster Relief NLP Analysis\", layout=\"wide\")\n",
        "\n",
        "# Header Section\n",
        "st.title(\"Whisper: Disaster Relief NLP Analysis\")\n",
        "st.markdown(\"\"\"\n",
        "    This tool analyzes user-provided tweets to predict whether they relate to disaster relief efforts.\n",
        "    Simply enter your tweet, and Whisper will provide a prediction based on a pre-trained model.\n",
        "\"\"\")\n",
        "\n",
        "# Function to transform tweet data to vector using GloVe embeddings\n",
        "def glove_transform_data_descriptions(data):\n",
        "    X = np.zeros((len(data), VEC_SIZE))\n",
        "\n",
        "    for i, tweet in enumerate(data):\n",
        "        found_words = 0.0\n",
        "        tweet = tweet.strip()\n",
        "        for word in tweet.split():\n",
        "\n",
        "            vec = get_word_vector(word)\n",
        "            if vec is not None:\n",
        "                # Increment found_words and add vec to X[i].\n",
        "                found_words += 1\n",
        "                X[i] += vec\n",
        "        # We divide the sum by the number of words added, so we have the\n",
        "        # average word vector.\n",
        "        if found_words > 0:\n",
        "            X[i] /= found_words\n",
        "\n",
        "    return X\n",
        "\n",
        "# Returns word vector for word if it exists, else return a zero vector of size 300\n",
        "def get_word_vector(word, vec_size=300):\n",
        "    word = word.lower()\n",
        "    return glove.get(word, np.zeros(vec_size))  # Return a zero vector if word is not found\n",
        "\n",
        "# User Input Section\n",
        "st.header(\"Tweet Input\")\n",
        "st.markdown(\"\"\"\n",
        "    Enter up to three tweets below. Each will be analyzed for its relevance to disaster relief.\n",
        "    After entering the tweet, the tool will display its prediction.\n",
        "\"\"\")\n",
        "\n",
        "user_inputs = []\n",
        "for i in range(3):\n",
        "    prompt = f\"Tweet {i + 1}:\"\n",
        "    user_input = st.text_input(prompt)\n",
        "    user_inputs.append(user_input)\n",
        "\n",
        "predictions = []\n",
        "\n",
        "# Display predictions if tweets are entered\n",
        "if any(user_inputs):\n",
        "    st.subheader(\"Prediction Results\")\n",
        "    for user_input in user_inputs:\n",
        "        if user_input:\n",
        "            glove_input = glove_transform_data_descriptions([user_input])\n",
        "            prediction = model.predict(glove_input)\n",
        "            predictions.append(f\"Prediction for Tweet: {prediction[0]}\")\n",
        "            st.write(predictions[-1])\n",
        "else:\n",
        "    st.warning(\"Please enter at least one tweet to get a prediction.\")\n",
        "\n",
        "# Optional: Add footer with contact info or further instructions\n",
        "st.markdown(\"\"\"\n",
        "    ---\n",
        "    For more information about how Whisper works or if you would like to integrate this tool into your platform,\n",
        "    please contact us at [oluwatoyosi.abolaji25@gmail.com](mailto:oluwatoyosi.abolaji25@gmail.com).\n",
        "\"\"\")"
      ],
      "metadata": {
        "id": "8cgk4IbdktQS",
        "colab": {
          "base_uri": "https://localhost:8080/"
        },
        "outputId": "44ba3e7c-0913-4829-a147-5e648d219b73"
      },
      "execution_count": null,
      "outputs": [
        {
          "output_type": "stream",
          "name": "stdout",
          "text": [
            "Overwriting app.py\n"
          ]
        }
      ]
    }
  ]
}